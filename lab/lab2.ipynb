{
 "cells": [
  {
   "cell_type": "markdown",
   "id": "6c6da440",
   "metadata": {},
   "source": [
    "# Computer Lab 2"
   ]
  },
  {
   "cell_type": "markdown",
   "id": "cf1393d7",
   "metadata": {},
   "source": [
    "In the first computer lab, we saw that SageMath can perform basic arithmetic with matrices, it can solve systems of linear equations, and linear algebra can be applied to other branches of mathematics such as in graph theory."
   ]
  },
  {
   "cell_type": "markdown",
   "id": "1d5008dc",
   "metadata": {},
   "source": [
    "Concrete vectors from $\\mathbb{V}^{4}(\\mathbb{R})$ can be entered into SageMath as follows.  Remember that the field of real numbers $\\mathbb{R}$ is denoted by RR in SageMath."
   ]
  },
  {
   "cell_type": "code",
   "execution_count": 1,
   "id": "ea0e0488",
   "metadata": {},
   "outputs": [],
   "source": [
    "v1 = vector(RR,[1,3,-1,3])\n",
    "v2 = vector(RR,[2,4,0,1])\n",
    "v3 = vector(RR,[-1,-2,3,1])"
   ]
  },
  {
   "cell_type": "markdown",
   "id": "49a5e7e6",
   "metadata": {},
   "source": [
    "Let's see what happens if we ask SageMath what kind of objects is v1:"
   ]
  },
  {
   "cell_type": "code",
   "execution_count": 2,
   "id": "137abeda",
   "metadata": {},
   "outputs": [
    {
     "data": {
      "text/plain": [
       "<class 'sage.modules.free_module_element.FreeModuleElement_generic_dense'>"
      ]
     },
     "execution_count": 2,
     "metadata": {},
     "output_type": "execute_result"
    }
   ],
   "source": [
    "type(v1)"
   ]
  },
  {
   "cell_type": "code",
   "execution_count": 3,
   "id": "958a2da1",
   "metadata": {},
   "outputs": [
    {
     "data": {
      "text/plain": [
       "(1.00000000000000, 3.00000000000000, -1.00000000000000, 3.00000000000000)"
      ]
     },
     "execution_count": 3,
     "metadata": {},
     "output_type": "execute_result"
    }
   ],
   "source": [
    "v1"
   ]
  },
  {
   "cell_type": "markdown",
   "id": "01702023",
   "metadata": {},
   "source": [
    "Vectors can be added and multiplied by scalars:"
   ]
  },
  {
   "cell_type": "code",
   "execution_count": 4,
   "id": "e198387a",
   "metadata": {},
   "outputs": [
    {
     "data": {
      "text/plain": [
       "(3.00000000000000, 7.00000000000000, -1.00000000000000, 4.00000000000000)"
      ]
     },
     "execution_count": 4,
     "metadata": {},
     "output_type": "execute_result"
    }
   ],
   "source": [
    "v1+v2"
   ]
  },
  {
   "cell_type": "code",
   "execution_count": 5,
   "id": "89c323cd",
   "metadata": {},
   "outputs": [
    {
     "data": {
      "text/plain": [
       "(2.00000000000000, 6.00000000000000, -2.00000000000000, 6.00000000000000)"
      ]
     },
     "execution_count": 5,
     "metadata": {},
     "output_type": "execute_result"
    }
   ],
   "source": [
    "2*v1"
   ]
  },
  {
   "cell_type": "markdown",
   "id": "975c39c1",
   "metadata": {},
   "source": [
    "One can ask SageMath to check if these vectors are linearly independent.  Before doing so, we have to tell SageMath in which vector space we are working.  Here, the vector space $\\mathbb{V}^{4}(\\mathbb{R})$ can be entered in SageMath as follows:"
   ]
  },
  {
   "cell_type": "code",
   "execution_count": 6,
   "id": "728ea5cc",
   "metadata": {},
   "outputs": [],
   "source": [
    "V = VectorSpace(RR,4)"
   ]
  },
  {
   "cell_type": "markdown",
   "id": "9d70e087",
   "metadata": {},
   "source": [
    "We create a list containing the three vectors v1, v2, and v3:"
   ]
  },
  {
   "cell_type": "code",
   "execution_count": 7,
   "id": "029f346a",
   "metadata": {},
   "outputs": [],
   "source": [
    "L = [v1,v2,v3]"
   ]
  },
  {
   "cell_type": "markdown",
   "id": "4cd7ffc7",
   "metadata": {},
   "source": [
    "And we ask Sage if these vectors are linearly independent:"
   ]
  },
  {
   "cell_type": "code",
   "execution_count": 8,
   "id": "a4ff208e",
   "metadata": {},
   "outputs": [
    {
     "data": {
      "text/plain": [
       "[\n",
       "\n",
       "]"
      ]
     },
     "execution_count": 8,
     "metadata": {},
     "output_type": "execute_result"
    }
   ],
   "source": [
    "V.linear_dependence(L)"
   ]
  },
  {
   "cell_type": "markdown",
   "id": "e0200ddc",
   "metadata": {},
   "source": [
    "If the returned list is empty, then that means the vectors v1, v2, v3 are linearly independent.  Let's look at a simple example with linearly dependent vectors to see what SageMath outputs."
   ]
  },
  {
   "cell_type": "code",
   "execution_count": 9,
   "id": "04da43c0",
   "metadata": {},
   "outputs": [],
   "source": [
    "W = VectorSpace(RR,2)\n",
    "w1 = vector(RR,[1,1])\n",
    "w2 = vector(RR,[2,2])\n",
    "M = [w1,w2]"
   ]
  },
  {
   "cell_type": "code",
   "execution_count": 10,
   "id": "946c244c",
   "metadata": {},
   "outputs": [
    {
     "data": {
      "text/plain": [
       "[\n",
       "(1.00000000000000, -0.500000000000000)\n",
       "]"
      ]
     },
     "execution_count": 10,
     "metadata": {},
     "output_type": "execute_result"
    }
   ],
   "source": [
    "W.linear_dependence(M)"
   ]
  },
  {
   "cell_type": "markdown",
   "id": "b281095d",
   "metadata": {},
   "source": [
    "In this case, SageMath returns a list of scalars which gives a non-trivial linear relation between w1 and w2.  Indeed:"
   ]
  },
  {
   "cell_type": "code",
   "execution_count": 11,
   "id": "b4585940",
   "metadata": {},
   "outputs": [
    {
     "data": {
      "text/plain": [
       "(0.000000000000000, 0.000000000000000)"
      ]
     },
     "execution_count": 11,
     "metadata": {},
     "output_type": "execute_result"
    }
   ],
   "source": [
    "w1 - (1/2)*w2"
   ]
  },
  {
   "cell_type": "markdown",
   "id": "9353b497",
   "metadata": {},
   "source": [
    "which is the zero vector in $\\mathbb{V}^{2}(\\mathbb{R})$.  One can look at the subspace spanned by finitely many vectors:"
   ]
  },
  {
   "cell_type": "code",
   "execution_count": 12,
   "id": "2489fa03",
   "metadata": {},
   "outputs": [
    {
     "data": {
      "text/plain": [
       "Vector space of degree 4 and dimension 3 over Real Field with 53 bits of precision\n",
       "Basis matrix:\n",
       "[ 1.00000000000000 0.000000000000000 0.000000000000000 -5.50000000000000]\n",
       "[0.000000000000000  1.00000000000000 0.000000000000000  3.00000000000000]\n",
       "[0.000000000000000 0.000000000000000  1.00000000000000 0.500000000000000]"
      ]
     },
     "execution_count": 12,
     "metadata": {},
     "output_type": "execute_result"
    }
   ],
   "source": [
    "S = V.span(L)\n",
    "S"
   ]
  },
  {
   "cell_type": "markdown",
   "id": "49449ce8",
   "metadata": {},
   "source": [
    "Sage is telling us that the subspace spanned by v1,v2,v3 is three dimensional.  Sage can give us a basis:"
   ]
  },
  {
   "cell_type": "code",
   "execution_count": 13,
   "id": "c7112bd7",
   "metadata": {},
   "outputs": [
    {
     "data": {
      "text/plain": [
       "[\n",
       "(1.00000000000000, 0.000000000000000, 0.000000000000000, -5.50000000000000),\n",
       "(0.000000000000000, 1.00000000000000, 0.000000000000000, 3.00000000000000),\n",
       "(0.000000000000000, 0.000000000000000, 1.00000000000000, 0.500000000000000)\n",
       "]"
      ]
     },
     "execution_count": 13,
     "metadata": {},
     "output_type": "execute_result"
    }
   ],
   "source": [
    "S.basis()"
   ]
  },
  {
   "cell_type": "markdown",
   "id": "ea7d3acd",
   "metadata": {},
   "source": [
    "which is the basis obtained when considering those vectors as the rows of a matrix and finding a basis by row reducing the matrix.  Indeed:"
   ]
  },
  {
   "cell_type": "code",
   "execution_count": 14,
   "id": "0921acf3",
   "metadata": {},
   "outputs": [],
   "source": [
    "A = matrix(RR,3,4,[1,3,-1,3,2,4,0,1,-1,-2,3,1])"
   ]
  },
  {
   "cell_type": "code",
   "execution_count": 15,
   "id": "fe3a39c7",
   "metadata": {},
   "outputs": [
    {
     "data": {
      "text/plain": [
       "[ 1.00000000000000 0.000000000000000 0.000000000000000 -5.50000000000000]\n",
       "[0.000000000000000  1.00000000000000 0.000000000000000  3.00000000000000]\n",
       "[0.000000000000000 0.000000000000000  1.00000000000000 0.500000000000000]"
      ]
     },
     "execution_count": 15,
     "metadata": {},
     "output_type": "execute_result"
    }
   ],
   "source": [
    "A.rref()"
   ]
  },
  {
   "cell_type": "markdown",
   "id": "31f41f98",
   "metadata": {},
   "source": [
    "SageMath can output the dimension of a vector space:"
   ]
  },
  {
   "cell_type": "code",
   "execution_count": 16,
   "id": "71ec42b9",
   "metadata": {},
   "outputs": [
    {
     "data": {
      "text/plain": [
       "3"
      ]
     },
     "execution_count": 16,
     "metadata": {},
     "output_type": "execute_result"
    }
   ],
   "source": [
    "S.dimension()"
   ]
  },
  {
   "cell_type": "markdown",
   "id": "26b76834",
   "metadata": {},
   "source": [
    "Let's do the same calculations for W instead."
   ]
  },
  {
   "cell_type": "code",
   "execution_count": 17,
   "id": "995a0cfd",
   "metadata": {},
   "outputs": [
    {
     "data": {
      "text/plain": [
       "Vector space of degree 2 and dimension 1 over Real Field with 53 bits of precision\n",
       "Basis matrix:\n",
       "[1.00000000000000 1.00000000000000]"
      ]
     },
     "execution_count": 17,
     "metadata": {},
     "output_type": "execute_result"
    }
   ],
   "source": [
    "T = W.span(M)\n",
    "T"
   ]
  },
  {
   "cell_type": "code",
   "execution_count": 18,
   "id": "8b4301e7",
   "metadata": {},
   "outputs": [
    {
     "data": {
      "text/plain": [
       "[\n",
       "(1.00000000000000, 1.00000000000000)\n",
       "]"
      ]
     },
     "execution_count": 18,
     "metadata": {},
     "output_type": "execute_result"
    }
   ],
   "source": [
    "T.basis()"
   ]
  },
  {
   "cell_type": "code",
   "execution_count": 19,
   "id": "b3fb4806",
   "metadata": {},
   "outputs": [
    {
     "data": {
      "text/plain": [
       "1"
      ]
     },
     "execution_count": 19,
     "metadata": {},
     "output_type": "execute_result"
    }
   ],
   "source": [
    "T.dimension()"
   ]
  },
  {
   "cell_type": "markdown",
   "id": "7c71a3f7",
   "metadata": {},
   "source": [
    "Your turn now.  Consider the vectors $\\langle 1,3,2,4,5 \\rangle, \\langle -2,3,1,0,2 \\rangle, \\langle 1,1,0,3,1 \\rangle$ in $\\mathbb{V}^{5}(\\mathbb{R})$.  Enter those vectors in SageMath and call them u1,u2,u3."
   ]
  },
  {
   "cell_type": "code",
   "execution_count": null,
   "id": "06a19cd1",
   "metadata": {},
   "outputs": [],
   "source": []
  },
  {
   "cell_type": "markdown",
   "id": "e8b204f0",
   "metadata": {},
   "source": [
    "Create the vector space $\\mathbb{V}^{5}(\\mathbb{R})$ in SageMath below."
   ]
  },
  {
   "cell_type": "code",
   "execution_count": null,
   "id": "05c9b7b3",
   "metadata": {},
   "outputs": [],
   "source": []
  },
  {
   "cell_type": "markdown",
   "id": "09d87c37",
   "metadata": {},
   "source": [
    "As above, create a list of vectors containing u1, u2, u3."
   ]
  },
  {
   "cell_type": "code",
   "execution_count": null,
   "id": "74496a8c",
   "metadata": {},
   "outputs": [],
   "source": []
  },
  {
   "cell_type": "markdown",
   "id": "fe06c7ac",
   "metadata": {},
   "source": [
    "Use SageMath to determine if those three vectors are linearly independent."
   ]
  },
  {
   "cell_type": "code",
   "execution_count": null,
   "id": "4c7e33ff",
   "metadata": {},
   "outputs": [],
   "source": []
  },
  {
   "cell_type": "markdown",
   "id": "98a776a5",
   "metadata": {},
   "source": [
    "Use SageMath to define the subspace spanned by these three vectors and call it U."
   ]
  },
  {
   "cell_type": "code",
   "execution_count": null,
   "id": "798c31b9",
   "metadata": {},
   "outputs": [],
   "source": []
  },
  {
   "cell_type": "markdown",
   "id": "3a2c48be",
   "metadata": {},
   "source": [
    "What is a basis of U?"
   ]
  },
  {
   "cell_type": "code",
   "execution_count": null,
   "id": "e2ee9ad6",
   "metadata": {},
   "outputs": [],
   "source": []
  },
  {
   "cell_type": "markdown",
   "id": "72c7d04e",
   "metadata": {},
   "source": [
    "What is the dimension of U???"
   ]
  },
  {
   "cell_type": "code",
   "execution_count": null,
   "id": "fa7fe2b5",
   "metadata": {},
   "outputs": [],
   "source": []
  },
  {
   "cell_type": "markdown",
   "id": "af74abd5",
   "metadata": {},
   "source": [
    "One can check if a vector is in the span of other vectors.  This would be done as follows:"
   ]
  },
  {
   "cell_type": "code",
   "execution_count": 20,
   "id": "e24704a1",
   "metadata": {},
   "outputs": [
    {
     "data": {
      "text/plain": [
       "False"
      ]
     },
     "execution_count": 20,
     "metadata": {},
     "output_type": "execute_result"
    }
   ],
   "source": [
    "w = vector(RR,[1,2])\n",
    "w in T"
   ]
  },
  {
   "cell_type": "markdown",
   "id": "16bdb5c0",
   "metadata": {},
   "source": [
    "On the other hand, we have as expected:"
   ]
  },
  {
   "cell_type": "code",
   "execution_count": 21,
   "id": "cb91bd77",
   "metadata": {},
   "outputs": [
    {
     "data": {
      "text/plain": [
       "True"
      ]
     },
     "execution_count": 21,
     "metadata": {},
     "output_type": "execute_result"
    }
   ],
   "source": [
    "w = vector(RR,[3,3])\n",
    "w in T"
   ]
  },
  {
   "cell_type": "markdown",
   "id": "9cb5ef80",
   "metadata": {},
   "source": [
    "Go ahead and tell me if the vector $\\langle 1,1,1,1 \\rangle$ is in the span of the vectors v1,v2,v3 from above."
   ]
  },
  {
   "cell_type": "code",
   "execution_count": null,
   "id": "70e2403c",
   "metadata": {},
   "outputs": [],
   "source": []
  },
  {
   "cell_type": "markdown",
   "id": "27774b23",
   "metadata": {},
   "source": [
    "SageMath allow to calculate the row space, column space and null space of a matrix.  For instance, consider the matrix"
   ]
  },
  {
   "cell_type": "code",
   "execution_count": 22,
   "id": "f28529fc",
   "metadata": {},
   "outputs": [
    {
     "data": {
      "text/plain": [
       "[1 3 4]\n",
       "[2 1 5]\n",
       "[3 4 9]"
      ]
     },
     "execution_count": 22,
     "metadata": {},
     "output_type": "execute_result"
    }
   ],
   "source": [
    "A = matrix(QQ,3,3,[1,3,4,2,1,5,3,4,9])\n",
    "A"
   ]
  },
  {
   "cell_type": "markdown",
   "id": "f65d6e52",
   "metadata": {},
   "source": [
    "We already know how to find bases for those three vectors spaces by row reducing the matrix."
   ]
  },
  {
   "cell_type": "code",
   "execution_count": 23,
   "id": "e31ede90",
   "metadata": {},
   "outputs": [
    {
     "data": {
      "text/plain": [
       "[   1    0 11/5]\n",
       "[   0    1  3/5]\n",
       "[   0    0    0]"
      ]
     },
     "execution_count": 23,
     "metadata": {},
     "output_type": "execute_result"
    }
   ],
   "source": [
    "A.rref()"
   ]
  },
  {
   "cell_type": "markdown",
   "id": "d243a587",
   "metadata": {},
   "source": [
    "For the column space of a matrix, SageMath provides the following command:"
   ]
  },
  {
   "cell_type": "code",
   "execution_count": 24,
   "id": "bbb084ad",
   "metadata": {},
   "outputs": [
    {
     "data": {
      "text/plain": [
       "Vector space of degree 3 and dimension 2 over Rational Field\n",
       "Basis matrix:\n",
       "[1 0 1]\n",
       "[0 1 1]"
      ]
     },
     "execution_count": 24,
     "metadata": {},
     "output_type": "execute_result"
    }
   ],
   "source": [
    "C_A = A.column_space()\n",
    "C_A"
   ]
  },
  {
   "cell_type": "code",
   "execution_count": 25,
   "id": "a990b54d",
   "metadata": {},
   "outputs": [
    {
     "data": {
      "text/plain": [
       "[\n",
       "(1, 0, 1),\n",
       "(0, 1, 1)\n",
       "]"
      ]
     },
     "execution_count": 25,
     "metadata": {},
     "output_type": "execute_result"
    }
   ],
   "source": [
    "C_A.basis()"
   ]
  },
  {
   "cell_type": "markdown",
   "id": "77208bc9",
   "metadata": {},
   "source": [
    "SageMath always give a basis which is in row echelon form after placing those vectors in a matrix.  In class, we saw that since the pivot columns are the first and the second one that $\\langle 1,2,3 \\rangle$ and $\\langle 3,1,4 \\rangle$ form a basis for the column space of $A$.  Let's check that this is consistent with the basis SageMath is giving us:"
   ]
  },
  {
   "cell_type": "code",
   "execution_count": 26,
   "id": "98196214",
   "metadata": {},
   "outputs": [
    {
     "data": {
      "text/plain": [
       "[1 0 1]\n",
       "[0 1 1]"
      ]
     },
     "execution_count": 26,
     "metadata": {},
     "output_type": "execute_result"
    }
   ],
   "source": [
    "B = matrix(QQ,2,3,[1,2,3,3,1,4])\n",
    "B.rref()"
   ]
  },
  {
   "cell_type": "markdown",
   "id": "94000128",
   "metadata": {},
   "source": [
    "So everything checks out."
   ]
  },
  {
   "cell_type": "code",
   "execution_count": 27,
   "id": "828c6a92",
   "metadata": {},
   "outputs": [
    {
     "data": {
      "text/plain": [
       "2"
      ]
     },
     "execution_count": 27,
     "metadata": {},
     "output_type": "execute_result"
    }
   ],
   "source": [
    "C_A.dimension()"
   ]
  },
  {
   "cell_type": "markdown",
   "id": "864e66da",
   "metadata": {},
   "source": [
    "Similarly, the row space of a matrix can also be calculated:"
   ]
  },
  {
   "cell_type": "code",
   "execution_count": 28,
   "id": "b7627301",
   "metadata": {},
   "outputs": [
    {
     "data": {
      "text/plain": [
       "Vector space of degree 3 and dimension 2 over Rational Field\n",
       "Basis matrix:\n",
       "[   1    0 11/5]\n",
       "[   0    1  3/5]"
      ]
     },
     "execution_count": 28,
     "metadata": {},
     "output_type": "execute_result"
    }
   ],
   "source": [
    "R_A = A.row_space()\n",
    "R_A"
   ]
  },
  {
   "cell_type": "code",
   "execution_count": 29,
   "id": "10c2751a",
   "metadata": {},
   "outputs": [
    {
     "data": {
      "text/plain": [
       "[\n",
       "(1, 0, 11/5),\n",
       "(0, 1, 3/5)\n",
       "]"
      ]
     },
     "execution_count": 29,
     "metadata": {},
     "output_type": "execute_result"
    }
   ],
   "source": [
    "R_A.basis()"
   ]
  },
  {
   "cell_type": "code",
   "execution_count": 30,
   "id": "d95b3de9",
   "metadata": {},
   "outputs": [
    {
     "data": {
      "text/plain": [
       "2"
      ]
     },
     "execution_count": 30,
     "metadata": {},
     "output_type": "execute_result"
    }
   ],
   "source": [
    "R_A.dimension()"
   ]
  },
  {
   "cell_type": "markdown",
   "id": "80e3c3e5",
   "metadata": {},
   "source": [
    "The null space of a matrix can also be calculated:"
   ]
  },
  {
   "cell_type": "code",
   "execution_count": 31,
   "id": "434609c5",
   "metadata": {},
   "outputs": [
    {
     "data": {
      "text/plain": [
       "Vector space of degree 3 and dimension 1 over Rational Field\n",
       "Basis matrix:\n",
       "[    1  3/11 -5/11]"
      ]
     },
     "execution_count": 31,
     "metadata": {},
     "output_type": "execute_result"
    }
   ],
   "source": [
    "N_A = A.right_kernel()\n",
    "N_A"
   ]
  },
  {
   "cell_type": "code",
   "execution_count": 32,
   "id": "b1a906dc",
   "metadata": {},
   "outputs": [
    {
     "data": {
      "text/plain": [
       "[\n",
       "(1, 3/11, -5/11)\n",
       "]"
      ]
     },
     "execution_count": 32,
     "metadata": {},
     "output_type": "execute_result"
    }
   ],
   "source": [
    "N_A.basis()"
   ]
  },
  {
   "cell_type": "code",
   "execution_count": 33,
   "id": "bf06952c",
   "metadata": {},
   "outputs": [
    {
     "data": {
      "text/plain": [
       "1"
      ]
     },
     "execution_count": 33,
     "metadata": {},
     "output_type": "execute_result"
    }
   ],
   "source": [
    "N_A.dimension()"
   ]
  },
  {
   "cell_type": "markdown",
   "id": "eba851e4",
   "metadata": {},
   "source": [
    "We calculated the dimension of the row space of $A$ and the null space of $A$ above, but those quantities can be calculated using the following commands as well:"
   ]
  },
  {
   "cell_type": "code",
   "execution_count": 34,
   "id": "589e81c5",
   "metadata": {},
   "outputs": [
    {
     "data": {
      "text/plain": [
       "2"
      ]
     },
     "execution_count": 34,
     "metadata": {},
     "output_type": "execute_result"
    }
   ],
   "source": [
    "A.rank()"
   ]
  },
  {
   "cell_type": "code",
   "execution_count": 35,
   "id": "ef6229f3",
   "metadata": {},
   "outputs": [
    {
     "data": {
      "text/plain": [
       "1"
      ]
     },
     "execution_count": 35,
     "metadata": {},
     "output_type": "execute_result"
    }
   ],
   "source": [
    "A.nullity()"
   ]
  },
  {
   "cell_type": "markdown",
   "id": "8012e56a",
   "metadata": {},
   "source": [
    "Note that we have the number of columns = rank of $A$ plus nullity of $A$ as expected by the rank-nullity theorem."
   ]
  },
  {
   "cell_type": "markdown",
   "id": "6f912763",
   "metadata": {},
   "source": [
    "Now go ahead and using SageMath, calculate a basis and the dimension of the column, row and null space of the matrix $$E = \\begin{pmatrix}1 & 3 & 3 & -1 & 5\\\\-1 & 1 & 3 & -1 & 5\\\\8 & -7 & 5 & -1 & 100\\\\3 & 2 & -10 & -1 & 5\\\\-5 & 2 & 3 & -1 & 4 \\end{pmatrix} $$"
   ]
  },
  {
   "cell_type": "code",
   "execution_count": null,
   "id": "3dce9517",
   "metadata": {},
   "outputs": [],
   "source": []
  },
  {
   "cell_type": "code",
   "execution_count": null,
   "id": "500fef10",
   "metadata": {},
   "outputs": [],
   "source": []
  },
  {
   "cell_type": "code",
   "execution_count": null,
   "id": "c450c81d",
   "metadata": {},
   "outputs": [],
   "source": []
  },
  {
   "cell_type": "code",
   "execution_count": null,
   "id": "ad845021",
   "metadata": {},
   "outputs": [],
   "source": []
  },
  {
   "cell_type": "code",
   "execution_count": null,
   "id": "2a0f3c5a",
   "metadata": {},
   "outputs": [],
   "source": []
  },
  {
   "cell_type": "code",
   "execution_count": null,
   "id": "313a549b",
   "metadata": {},
   "outputs": [],
   "source": []
  },
  {
   "cell_type": "code",
   "execution_count": null,
   "id": "94177f02",
   "metadata": {},
   "outputs": [],
   "source": []
  },
  {
   "cell_type": "code",
   "execution_count": null,
   "id": "c1fafb6c",
   "metadata": {},
   "outputs": [],
   "source": []
  },
  {
   "cell_type": "code",
   "execution_count": null,
   "id": "5b6fbcbc",
   "metadata": {},
   "outputs": [],
   "source": []
  },
  {
   "cell_type": "code",
   "execution_count": null,
   "id": "769aea56",
   "metadata": {},
   "outputs": [],
   "source": []
  },
  {
   "cell_type": "markdown",
   "id": "0c89a220",
   "metadata": {},
   "source": [
    "As you can imagine, you can do much more with SageMath and linear algebra.  For those of you who are curious, I found this [reference](http://linear.ups.edu/html/sage.html) online which seems decent.  Check it out!!"
   ]
  }
 ],
 "metadata": {
  "kernelspec": {
   "display_name": "SageMath 9.6",
   "language": "sage",
   "name": "sagemath-9.6"
  },
  "language_info": {
   "codemirror_mode": {
    "name": "ipython",
    "version": 3
   },
   "file_extension": ".py",
   "mimetype": "text/x-python",
   "name": "python",
   "nbconvert_exporter": "python",
   "pygments_lexer": "ipython3",
   "version": "3.10.3"
  }
 },
 "nbformat": 4,
 "nbformat_minor": 5
}
